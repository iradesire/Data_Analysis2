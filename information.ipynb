{
 "cells": [
  {
   "cell_type": "code",
   "execution_count": null,
   "id": "8cf83745-b5eb-4537-aae5-a00a2ca75c3b",
   "metadata": {},
   "outputs": [],
   "source": [
    "import pandas as pd\n",
    "import csv\n",
    "   "
   ]
  },
  {
   "cell_type": "code",
   "execution_count": null,
   "id": "120ae87e-161b-4312-9985-315f2ed625a1",
   "metadata": {},
   "outputs": [],
   "source": [
    "def menu():\n",
    "    while True:\n",
    "        print(\"===THE MENU===\")\n",
    "        print(\"1.Add the employ data\")\n",
    "        print(\"2.View emplyees data\")\n",
    "        print(\"3.End the program\")\n",
    "        choice=int(input(\"Enter your choice 1-3: \"))\n",
    "        if choice==1:\n",
    "            add_infor()\n",
    "        elif choice==2:\n",
    "            view_employ_data()\n",
    "        elif choice==3:\n",
    "            print(\"the program is closed\")\n",
    "            break\n",
    "        else:\n",
    "            print(\"Incorrect input!\")"
   ]
  },
  {
   "cell_type": "code",
   "execution_count": null,
   "id": "bc9f72fe-d275-4af8-977b-7d5e0e6170e0",
   "metadata": {},
   "outputs": [],
   "source": [
    "ID=None\n",
    "fullname=None\n",
    "gender=None\n",
    "M_status=None\n",
    "nationality=None\n",
    "email=None\n",
    "salary=None\n",
    "\n",
    "def add_infor():\n",
    "    while True:\n",
    "        print(\"===Add the employ data===\")\n",
    "        ID=int(input(\"Enter your ID name: \"))\n",
    "        fullname=input(\"Enter your fullname: \")\n",
    "        gender=input(\"Enter your gender: \")\n",
    "        M_status=input(\"Enter your M_status: \")\n",
    "        nationality=input(\"Enter your natisonarity: \")\n",
    "        email=input(\"Enter your email: \")\n",
    "        salary=float(input(\"Enter your salary: \"))\n",
    "        print(\"1.yes if you want to keep on adding\")\n",
    "        print(\"2.no if you want to go back to menu\" )\n",
    "        choice=int(input(\"Enter your choice 1 or 2: \"))\n",
    "        data={'ID':ID,'FullName':fullname,'Gender':gender,'M_status':M_status,'Nationality':nationality,'Email':email,'Salary':salary}\n",
    "        write_data(data)\n",
    "        if choice==1:\n",
    "            continue\n",
    "        elif choice==2:\n",
    "            menu()\n",
    "            break\n",
    "        else:\n",
    "            print(\"incorrect input!\")\n",
    "#add_infor()"
   ]
  },
  {
   "cell_type": "code",
   "execution_count": null,
   "id": "b449eb12-8e06-4573-9db8-0a77e45a4407",
   "metadata": {},
   "outputs": [],
   "source": [
    "def write_data(data):\n",
    "    print(\"===View emplyees data===\")\n",
    "    fieldnames=['ID','FullName','Gender','M_status','Nationality','Email','Salary']\n",
    "    with open(\"Employ_Dada.csv\",\"a\",newline='')as file:\n",
    "        file_write=csv.DictWriter(file,delimiter=',',fieldnames=fieldnames)\n",
    "        if file.tell() < 0:\n",
    "            file_write.writeheader  \n",
    "        file_write.writerow(data)\n",
    "  "
   ]
  },
  {
   "cell_type": "code",
   "execution_count": null,
   "id": "fa4d6583-e5cd-4051-8c94-9769897fafa4",
   "metadata": {},
   "outputs": [],
   "source": [
    "def view_employ_data():\n",
    "    with open(\"Employ_Dada.csv\",\"r\")as flie:\n",
    "        df=pd.read_csv(flie)\n",
    "        print(df)"
   ]
  },
  {
   "cell_type": "code",
   "execution_count": null,
   "id": "01aff5df-4152-4121-9286-6a2cd4f110d3",
   "metadata": {},
   "outputs": [],
   "source": [
    "menu()"
   ]
  },
  {
   "cell_type": "code",
   "execution_count": null,
   "id": "0cab300c-1330-48f5-8ba3-6074b9c21777",
   "metadata": {},
   "outputs": [],
   "source": []
  },
  {
   "cell_type": "code",
   "execution_count": null,
   "id": "bab2aa9b-ee85-4c4e-b7e7-0f7fff174b6f",
   "metadata": {},
   "outputs": [],
   "source": [
    "import pandas as pd \n",
    "import csv\n",
    "\n",
    "class adding_employ:\n",
    "    while True:\n",
    "        def __init__(self,ID,fullname,gender,M_states,nationality,email,salary):\n",
    "            self.ID=int(input(\"Enter your ID: \"))\n",
    "            self.fullname=input(\"Enter your fullname: \")\n",
    "            self.gender=input(\"Enter your email: \")\n",
    "            self.M_states=input(\"Enter your M_states: \")\n",
    "            self.nationlity=input(\"Enter your natinality: \")\n",
    "            self.email=input(\"Enter your email: \")\n",
    "            self.salary=input(\"Enter your salary: \")\n",
    "        def write_header(self,name_of_file):  #this is to write the header in the file\n",
    "            self.filename=name_of_file\n",
    "            header_lst =['ID','FullName','Gender','M_status','Nationality','Email','Salary']\n",
    "            with open(f\"{self.filename}.csv\",\"w\")as file:\n",
    "                file_write=csv.DictWriter(file,delimiter=',',fieldnames=header_lst)\n",
    "                file_write.writeheader()\n",
    "        def write_data(self):  #this is to write the data in the file\n",
    "             data={'ID':self.ID,'FullName':self.fullname,'Gender':self.gender,'M_status':self.M_states,'Nationality':self.nationlity,'Email':self.email,'M_status':self.salary,'salary':self.salary}\n",
    "             with open(f\"{self.filename}.csv\",\"w\")as file:\n",
    "                 file_write=csv.DictWriter(file,delimiter=',',fieldnames=data)\n",
    "                 file_write.writerow(data)\n",
    "        def fluttering(self):\n",
    "            column=input(\"Enter the column name: \")\n",
    "            name=input(\"Enter what is in the column: \")\n",
    "            df = pd.read_csv(f\"{self.filename}.csv\")\n",
    "            df.columns=[column.replace(\"_\",\" \") for column in df.columns]\n",
    "            df.query (F'{column} == \"{name}\"', inplace=True)\n",
    "            print(df)\n",
    "        def delete(self):\n",
    "            columns_input=input(\"Type your name: \")\n",
    "            self.columns=columns_input\n",
    "            df=pd.read_csv(f\"{self.filename}.csv\")\n",
    "            df=df[df['FullName']] !=self.columns\n",
    "            df.to_csv(f\"{self.filename}.csv\",index=False)\n",
    "            print(\" The deleting process has been complited\")\n",
    "break       \n",
    "\n",
    "emply =adding_employ(\"011\",\"ire desire\",\"felmale\",\"single\",\"malawian\",\"isiradesire@gmail.com\",\"100000\")\n",
    "emply.write_header(\"emplyees_infor.\")\n",
    "emply.write_data()\n",
    "emply.fluttering()\n",
    "emply.delete()"
   ]
  },
  {
   "cell_type": "code",
   "execution_count": null,
   "id": "45522fff-a822-484b-bc49-c42a6560c70d",
   "metadata": {},
   "outputs": [],
   "source": []
  },
  {
   "cell_type": "code",
   "execution_count": null,
   "id": "aea06a78-619c-4aab-a252-9e6ad4d5866e",
   "metadata": {},
   "outputs": [],
   "source": []
  }
 ],
 "metadata": {
  "kernelspec": {
   "display_name": "Python 3 (ipykernel)",
   "language": "python",
   "name": "python3"
  },
  "language_info": {
   "codemirror_mode": {
    "name": "ipython",
    "version": 3
   },
   "file_extension": ".py",
   "mimetype": "text/x-python",
   "name": "python",
   "nbconvert_exporter": "python",
   "pygments_lexer": "ipython3",
   "version": "3.13.2"
  }
 },
 "nbformat": 4,
 "nbformat_minor": 5
}
