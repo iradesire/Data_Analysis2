{
 "cells": [
  {
   "cell_type": "code",
   "execution_count": 25,
   "id": "c42c56d4-0d60-4f97-b369-4f34f71af0d5",
   "metadata": {},
   "outputs": [],
   "source": [
    "import pandas as pd"
   ]
  },
  {
   "cell_type": "code",
   "execution_count": 26,
   "id": "a03bd2a4-600e-43bc-afa8-bc4cbb42e56e",
   "metadata": {},
   "outputs": [
    {
     "name": "stdout",
     "output_type": "stream",
     "text": [
      "        ira     Banda           Mativa    Desire      Amos     Ester  \\\n",
      "0    female      male             male    female      male    female   \n",
      "1        19        29               14        20        22        24   \n",
      "2     Randi  Malawian            Randi     Randi     Randi     Randi   \n",
      "3  lilongwe      Dowa         lilongwe  lilongwe  lilongwe  lilongwe   \n",
      "4    single    single           single    single    single    single   \n",
      "5      MASE   Masters  still a student      MASE      MASE      MASE   \n",
      "\n",
      "     Yankho  Chifundo    Tapiwa  Felister     Kelly     Eliza      Moyo  \\\n",
      "0      male    female    female    female    female    female    female   \n",
      "1        29        56        17        22        18        14        19   \n",
      "2  Malawian     Randi  Malawian    congol     Randi     Randi     Randi   \n",
      "3  Brantaya  lilongwe  lilongwe  lilongwe  lilongwe  lilongwe  lilongwe   \n",
      "4    single    single    single    single    single    single    single   \n",
      "5      MASE      MASE      MASE      MASE      MASE      MASE      MASE   \n",
      "\n",
      "      Hasan     Manzi  \n",
      "0      male      male  \n",
      "1        25        29  \n",
      "2     Randi     Randi  \n",
      "3  lilongwe  lilongwe  \n",
      "4    single    single  \n",
      "5      MASE    degree  \n"
     ]
    }
   ],
   "source": [
    "list={\"ira\":[\"female\",\"19\",\"Randi\",\"lilongwe\",\"single\",\"MASE\"],\n",
    "      \"Banda\":[\"male\",\"29\",\"Malawian\",\"Dowa\",\"single\",\"Masters\"],\n",
    "      \"Mativa\":[\"male\",\"14\",\"Randi\",\"lilongwe\",\"single\",\"still a student\"],\n",
    "      \"Desire\":[\"female\",\"20\",\"Randi\",\"lilongwe\",\"single\",\"MASE\"],\n",
    "      \"Amos\":[\"male\",\"22\",\"Randi\",\"lilongwe\",\"single\",\"MASE\"],\n",
    "      \"Ester\":[\"female\",\"24\",\"Randi\",\"lilongwe\",\"single\",\"MASE\"],\n",
    "      \"Yankho\":[\"male\",\"29\",\"Malawian\",\"Brantaya\",\"single\",\"MASE\"],\n",
    "      \"Chifundo\":[\"female\",\"56\",\"Randi\",\"lilongwe\",\"single\",\"MASE\"],\n",
    "      \"Tapiwa\":[\"female\",\"17\",\"Malawian\",\"lilongwe\",\"single\",\"MASE\"],\n",
    "      \"Felister\":[\"female\",\"22\",\"congol\",\"lilongwe\",\"single\",\"MASE\"],\n",
    "      \"Kelly\":[\"female\",\"18\",\"Randi\",\"lilongwe\",\"single\",\"MASE\"],\n",
    "      \"Eliza\":[\"female\",\"14\",\"Randi\",\"lilongwe\",\"single\",\"MASE\"],\n",
    "      \"Moyo\":[\"female\",\"19\",\"Randi\",\"lilongwe\",\"single\",\"MASE\"],\n",
    "      \"Hasan\":[\"male\",\"25\",\"Randi\",\"lilongwe\",\"single\",\"MASE\"],\n",
    "      \"Manzi\":[\"male\",\"29\",\"Randi\",\"lilongwe\",\"single\",\"degree\"]\n",
    "     }\n",
    "df=pd.DataFrame(list)\n",
    "print(df)"
   ]
  },
  {
   "cell_type": "code",
   "execution_count": 27,
   "id": "65b0c534-00e0-4d88-9fca-2b511d1af619",
   "metadata": {},
   "outputs": [
    {
     "name": "stdout",
     "output_type": "stream",
     "text": [
      "    Name age\n",
      "0    ira  67\n",
      "1  alice  78\n"
     ]
    }
   ],
   "source": [
    "list=[[\"ira\",\"67\"],[\"alice\",\"78\"]]\n",
    "df=pd.DataFrame(list, columns=[\"Name\",\"age\"])\n",
    "print(df)"
   ]
  },
  {
   "cell_type": "code",
   "execution_count": 6,
   "id": "dc2de3c2-d0c6-4294-bac6-d83423cc7f83",
   "metadata": {},
   "outputs": [
    {
     "data": {
      "text/html": [
       "<div>\n",
       "<style scoped>\n",
       "    .dataframe tbody tr th:only-of-type {\n",
       "        vertical-align: middle;\n",
       "    }\n",
       "\n",
       "    .dataframe tbody tr th {\n",
       "        vertical-align: top;\n",
       "    }\n",
       "\n",
       "    .dataframe thead th {\n",
       "        text-align: right;\n",
       "    }\n",
       "</style>\n",
       "<table border=\"1\" class=\"dataframe\">\n",
       "  <thead>\n",
       "    <tr style=\"text-align: right;\">\n",
       "      <th></th>\n",
       "      <th>qid</th>\n",
       "      <th>qname</th>\n",
       "      <th>question</th>\n",
       "      <th>force_resp</th>\n",
       "      <th>type</th>\n",
       "      <th>selector</th>\n",
       "    </tr>\n",
       "  </thead>\n",
       "  <tbody>\n",
       "    <tr>\n",
       "      <th>0</th>\n",
       "      <td>QID2</td>\n",
       "      <td>MainBranch</td>\n",
       "      <td>Which of the following options best describes ...</td>\n",
       "      <td>True</td>\n",
       "      <td>MC</td>\n",
       "      <td>SAVR</td>\n",
       "    </tr>\n",
       "    <tr>\n",
       "      <th>1</th>\n",
       "      <td>QID127</td>\n",
       "      <td>Age</td>\n",
       "      <td>What is your age?*</td>\n",
       "      <td>True</td>\n",
       "      <td>MC</td>\n",
       "      <td>SAVR</td>\n",
       "    </tr>\n",
       "    <tr>\n",
       "      <th>2</th>\n",
       "      <td>QID296</td>\n",
       "      <td>Employment</td>\n",
       "      <td>Which of the following best describes your cur...</td>\n",
       "      <td>True</td>\n",
       "      <td>MC</td>\n",
       "      <td>MAVR</td>\n",
       "    </tr>\n",
       "    <tr>\n",
       "      <th>3</th>\n",
       "      <td>QID308</td>\n",
       "      <td>RemoteWork</td>\n",
       "      <td>Which best describes your current work situation?</td>\n",
       "      <td>False</td>\n",
       "      <td>MC</td>\n",
       "      <td>SAVR</td>\n",
       "    </tr>\n",
       "    <tr>\n",
       "      <th>4</th>\n",
       "      <td>QID341</td>\n",
       "      <td>Check</td>\n",
       "      <td>Just checking to make sure you are paying atte...</td>\n",
       "      <td>True</td>\n",
       "      <td>MC</td>\n",
       "      <td>SAVR</td>\n",
       "    </tr>\n",
       "    <tr>\n",
       "      <th>...</th>\n",
       "      <td>...</td>\n",
       "      <td>...</td>\n",
       "      <td>...</td>\n",
       "      <td>...</td>\n",
       "      <td>...</td>\n",
       "      <td>...</td>\n",
       "    </tr>\n",
       "    <tr>\n",
       "      <th>82</th>\n",
       "      <td>QID337</td>\n",
       "      <td>JobSatPoints_7</td>\n",
       "      <td>Learning and using new technology, including p...</td>\n",
       "      <td>NaN</td>\n",
       "      <td>MC</td>\n",
       "      <td>MAVR</td>\n",
       "    </tr>\n",
       "    <tr>\n",
       "      <th>83</th>\n",
       "      <td>QID337</td>\n",
       "      <td>JobSatPoints_8</td>\n",
       "      <td>Designing and building environments, databases...</td>\n",
       "      <td>NaN</td>\n",
       "      <td>MC</td>\n",
       "      <td>MAVR</td>\n",
       "    </tr>\n",
       "    <tr>\n",
       "      <th>84</th>\n",
       "      <td>QID337</td>\n",
       "      <td>JobSatPoints_9</td>\n",
       "      <td>Being a power user of a tool, developer langua...</td>\n",
       "      <td>NaN</td>\n",
       "      <td>MC</td>\n",
       "      <td>MAVR</td>\n",
       "    </tr>\n",
       "    <tr>\n",
       "      <th>85</th>\n",
       "      <td>QID337</td>\n",
       "      <td>JobSatPoints_10</td>\n",
       "      <td>Working with new and/or top-quality hardware</td>\n",
       "      <td>NaN</td>\n",
       "      <td>MC</td>\n",
       "      <td>MAVR</td>\n",
       "    </tr>\n",
       "    <tr>\n",
       "      <th>86</th>\n",
       "      <td>QID337</td>\n",
       "      <td>JobSatPoints_11</td>\n",
       "      <td>A well-staffed/sourced internal network that m...</td>\n",
       "      <td>NaN</td>\n",
       "      <td>MC</td>\n",
       "      <td>MAVR</td>\n",
       "    </tr>\n",
       "  </tbody>\n",
       "</table>\n",
       "<p>87 rows × 6 columns</p>\n",
       "</div>"
      ],
      "text/plain": [
       "       qid            qname  \\\n",
       "0     QID2       MainBranch   \n",
       "1   QID127              Age   \n",
       "2   QID296       Employment   \n",
       "3   QID308       RemoteWork   \n",
       "4   QID341            Check   \n",
       "..     ...              ...   \n",
       "82  QID337   JobSatPoints_7   \n",
       "83  QID337   JobSatPoints_8   \n",
       "84  QID337   JobSatPoints_9   \n",
       "85  QID337  JobSatPoints_10   \n",
       "86  QID337  JobSatPoints_11   \n",
       "\n",
       "                                             question force_resp type selector  \n",
       "0   Which of the following options best describes ...       True   MC     SAVR  \n",
       "1                                  What is your age?*       True   MC     SAVR  \n",
       "2   Which of the following best describes your cur...       True   MC     MAVR  \n",
       "3   Which best describes your current work situation?      False   MC     SAVR  \n",
       "4   Just checking to make sure you are paying atte...       True   MC     SAVR  \n",
       "..                                                ...        ...  ...      ...  \n",
       "82  Learning and using new technology, including p...        NaN   MC     MAVR  \n",
       "83  Designing and building environments, databases...        NaN   MC     MAVR  \n",
       "84  Being a power user of a tool, developer langua...        NaN   MC     MAVR  \n",
       "85       Working with new and/or top-quality hardware        NaN   MC     MAVR  \n",
       "86  A well-staffed/sourced internal network that m...        NaN   MC     MAVR  \n",
       "\n",
       "[87 rows x 6 columns]"
      ]
     },
     "execution_count": 6,
     "metadata": {},
     "output_type": "execute_result"
    }
   ],
   "source": [
    "df=pd.read_csv(\"survey_results.csv\")\n",
    "df"
   ]
  },
  {
   "cell_type": "code",
   "execution_count": 41,
   "id": "54a4214b-16c9-48f3-838c-20551537e17e",
   "metadata": {},
   "outputs": [
    {
     "name": "stdout",
     "output_type": "stream",
     "text": [
      "       qid            qname  \\\n",
      "0     QID2       MainBranch   \n",
      "1   QID127              Age   \n",
      "2   QID296       Employment   \n",
      "3   QID308       RemoteWork   \n",
      "4   QID341            Check   \n",
      "..     ...              ...   \n",
      "82  QID337   JobSatPoints_7   \n",
      "83  QID337   JobSatPoints_8   \n",
      "84  QID337   JobSatPoints_9   \n",
      "85  QID337  JobSatPoints_10   \n",
      "86  QID337  JobSatPoints_11   \n",
      "\n",
      "                                             question force_resp type selector  \n",
      "0   Which of the following options best describes ...       True   MC     SAVR  \n",
      "1                                  What is your age?*       True   MC     SAVR  \n",
      "2   Which of the following best describes your cur...       True   MC     MAVR  \n",
      "3   Which best describes your current work situation?      False   MC     SAVR  \n",
      "4   Just checking to make sure you are paying atte...       True   MC     SAVR  \n",
      "..                                                ...        ...  ...      ...  \n",
      "82  Learning and using new technology, including p...        NaN   MC     MAVR  \n",
      "83  Designing and building environments, databases...        NaN   MC     MAVR  \n",
      "84  Being a power user of a tool, developer langua...        NaN   MC     MAVR  \n",
      "85       Working with new and/or top-quality hardware        NaN   MC     MAVR  \n",
      "86  A well-staffed/sourced internal network that m...        NaN   MC     MAVR  \n",
      "\n",
      "[87 rows x 6 columns]\n",
      "qid                                                       QID25\n",
      "qname                                                   EdLevel\n",
      "question      Which of the following best describes the high...\n",
      "force_resp                                                 True\n",
      "type                                                         MC\n",
      "selector                                                   SAVR\n",
      "Name: 6, dtype: object qid                                                     QID276\n",
      "qname                                                LearnCode\n",
      "question      How do you learn to code? Select all that apply.\n",
      "force_resp                                               False\n",
      "type                                                        MC\n",
      "selector                                                  MAVR\n",
      "Name: 7, dtype: object qid                                                      QID279\n",
      "qname                                                BuyNewTool\n",
      "question      When buying a new tool or software, how do you...\n",
      "force_resp                                                False\n",
      "type                                                         MC\n",
      "selector                                                   MAVR\n",
      "Name: 15, dtype: object qid                                                  QID326\n",
      "qname                                              Industry\n",
      "question      What industry is the company you work for in?\n",
      "force_resp                                            False\n",
      "type                                                     MC\n",
      "selector                                               SAVR\n",
      "Name: 60, dtype: object\n"
     ]
    }
   ],
   "source": [
    "with open(\"survey_results.csv\",\"r\")as file:\n",
    "    df=pd.read_csv(file)\n",
    "    qname1=df.loc[6]\n",
    "    qname2=df.loc[7]\n",
    "    qname3=df.loc[15]\n",
    "    qname4=df.loc[60]\n",
    "    print(df)\n",
    "    print(qname1,qname2,qname3,qname4)\n",
    "\n"
   ]
  },
  {
   "cell_type": "code",
   "execution_count": 49,
   "id": "3580cfd0-e07f-4e55-8e3e-6b1d452b044d",
   "metadata": {},
   "outputs": [
    {
     "name": "stdout",
     "output_type": "stream",
     "text": [
      "0          MainBranch\n",
      "1                 Age\n",
      "2          Employment\n",
      "3          RemoteWork\n",
      "4               Check\n",
      "           ...       \n",
      "82     JobSatPoints_7\n",
      "83     JobSatPoints_8\n",
      "84     JobSatPoints_9\n",
      "85    JobSatPoints_10\n",
      "86    JobSatPoints_11\n",
      "Name: qname, Length: 87, dtype: object\n"
     ]
    }
   ],
   "source": [
    "data=df[\"qname\"]\n",
    "print(data)"
   ]
  },
  {
   "cell_type": "code",
   "execution_count": 4,
   "id": "8f13c610-dd87-41e3-909c-181fdf230185",
   "metadata": {},
   "outputs": [
    {
     "name": "stdout",
     "output_type": "stream",
     "text": [
      "                                                    0\n",
      "0       qid,qname,question,force_resp,type,selector\\n\n",
      "1   QID2,MainBranch,\"Which of the following option...\n",
      "2        QID127,Age,What is your age?*,TRUE,MC,SAVR\\n\n",
      "3   QID296,Employment,Which of the following best ...\n",
      "4   QID308,RemoteWork,Which best describes your cu...\n",
      "..                                                ...\n",
      "83  QID337,JobSatPoints_7,\"Learning and using new ...\n",
      "84  QID337,JobSatPoints_8,\"Designing and building ...\n",
      "85  QID337,JobSatPoints_9,\"Being a power user of a...\n",
      "86  QID337,JobSatPoints_10,Working with new and/or...\n",
      "87  QID337,JobSatPoints_11,A well-staffed/sourced ...\n",
      "\n",
      "[88 rows x 1 columns]\n"
     ]
    }
   ],
   "source": [
    "import pandas as pd\n",
    "with open(\"survey_results.csv\",\"r\")as file:\n",
    "    df=pd.DataFrame(file)"
   ]
  },
  {
   "cell_type": "code",
   "execution_count": 1,
   "id": "cb45004f-894b-4307-86a9-a39baee30260",
   "metadata": {},
   "outputs": [],
   "source": [
    "import pandas as pd"
   ]
  },
  {
   "cell_type": "code",
   "execution_count": 18,
   "id": "866aa48f-8325-4404-83a6-ff1736ba2468",
   "metadata": {},
   "outputs": [
    {
     "data": {
      "text/html": [
       "<div>\n",
       "<style scoped>\n",
       "    .dataframe tbody tr th:only-of-type {\n",
       "        vertical-align: middle;\n",
       "    }\n",
       "\n",
       "    .dataframe tbody tr th {\n",
       "        vertical-align: top;\n",
       "    }\n",
       "\n",
       "    .dataframe thead th {\n",
       "        text-align: right;\n",
       "    }\n",
       "</style>\n",
       "<table border=\"1\" class=\"dataframe\">\n",
       "  <thead>\n",
       "    <tr style=\"text-align: right;\">\n",
       "      <th></th>\n",
       "      <th>First_Name</th>\n",
       "      <th>Gender</th>\n",
       "      <th>Start_Date</th>\n",
       "      <th>Last_Login_Time</th>\n",
       "      <th>Salary</th>\n",
       "      <th>Bonus_%</th>\n",
       "      <th>Senior_Management</th>\n",
       "      <th>Team</th>\n",
       "    </tr>\n",
       "  </thead>\n",
       "  <tbody>\n",
       "    <tr>\n",
       "      <th>331</th>\n",
       "      <td>Evelyn</td>\n",
       "      <td>Female</td>\n",
       "      <td>9/3/1983</td>\n",
       "      <td>1:58 PM</td>\n",
       "      <td>36759</td>\n",
       "      <td>17.269</td>\n",
       "      <td>True</td>\n",
       "      <td>Marketing</td>\n",
       "    </tr>\n",
       "    <tr>\n",
       "      <th>894</th>\n",
       "      <td>Betty</td>\n",
       "      <td>Female</td>\n",
       "      <td>11/19/2002</td>\n",
       "      <td>10:40 AM</td>\n",
       "      <td>37005</td>\n",
       "      <td>7.645</td>\n",
       "      <td>True</td>\n",
       "      <td>Marketing</td>\n",
       "    </tr>\n",
       "  </tbody>\n",
       "</table>\n",
       "</div>"
      ],
      "text/plain": [
       "    First_Name  Gender  Start_Date Last_Login_Time  Salary  Bonus_%  \\\n",
       "331     Evelyn  Female    9/3/1983         1:58 PM   36759   17.269   \n",
       "894      Betty  Female  11/19/2002        10:40 AM   37005    7.645   \n",
       "\n",
       "    Senior_Management       Team  \n",
       "331              True  Marketing  \n",
       "894              True  Marketing  "
      ]
     },
     "execution_count": 18,
     "metadata": {},
     "output_type": "execute_result"
    }
   ],
   "source": [
    "#this is to filler the information\n",
    "df = pd.read_csv(\"employees.csv\")\n",
    "df.columns=[column.replace(\" \",\"_\") for column in df.columns]\n",
    "df.query('Senior_Management == True and Gender == \"Female\" and Salary<=43694 and Team==\"Marketing\"',inplace=True)\n",
    "df"
   ]
  },
  {
   "cell_type": "code",
   "execution_count": 22,
   "id": "783a05ab-928e-4c34-b5c7-c51f3e88663f",
   "metadata": {},
   "outputs": [
    {
     "ename": "AttributeError",
     "evalue": "'DataFrame' object has no attribute 'rows'",
     "output_type": "error",
     "traceback": [
      "\u001b[1;31m---------------------------------------------------------------------------\u001b[0m",
      "\u001b[1;31mAttributeError\u001b[0m                            Traceback (most recent call last)",
      "\u001b[1;32m~\\AppData\\Local\\Temp\\ipykernel_7632\\4086706645.py\u001b[0m in \u001b[0;36m?\u001b[1;34m()\u001b[0m\n\u001b[0;32m      1\u001b[0m \u001b[0mdf\u001b[0m \u001b[1;33m=\u001b[0m \u001b[0mpd\u001b[0m\u001b[1;33m.\u001b[0m\u001b[0mread_csv\u001b[0m\u001b[1;33m(\u001b[0m\u001b[1;34m\"employees.csv\"\u001b[0m\u001b[1;33m)\u001b[0m\u001b[1;33m\u001b[0m\u001b[1;33m\u001b[0m\u001b[0m\n\u001b[1;32m----> 2\u001b[1;33m \u001b[0mdf\u001b[0m\u001b[1;33m.\u001b[0m\u001b[0mrows\u001b[0m\u001b[1;33m=\u001b[0m\u001b[1;33m[\u001b[0m\u001b[0mrow\u001b[0m\u001b[1;33m.\u001b[0m\u001b[0mreplace\u001b[0m\u001b[1;33m(\u001b[0m\u001b[1;34m\"0\"\u001b[0m\u001b[1;33m,\u001b[0m\u001b[1;34m\"*\"\u001b[0m\u001b[1;33m)\u001b[0m \u001b[1;32mfor\u001b[0m \u001b[0mrow\u001b[0m \u001b[1;32min\u001b[0m \u001b[0mdf\u001b[0m\u001b[1;33m.\u001b[0m\u001b[0mrows\u001b[0m\u001b[1;33m]\u001b[0m\u001b[1;33m\u001b[0m\u001b[1;33m\u001b[0m\u001b[0m\n\u001b[0m\u001b[0;32m      3\u001b[0m \u001b[0mdf\u001b[0m\u001b[1;33m\u001b[0m\u001b[1;33m\u001b[0m\u001b[0m\n",
      "\u001b[1;32m~\\AppData\\Local\\Programs\\Python\\Python313\\Lib\\site-packages\\pandas\\core\\generic.py\u001b[0m in \u001b[0;36m?\u001b[1;34m(self, name)\u001b[0m\n\u001b[0;32m   6295\u001b[0m             \u001b[1;32mand\u001b[0m \u001b[0mname\u001b[0m \u001b[1;32mnot\u001b[0m \u001b[1;32min\u001b[0m \u001b[0mself\u001b[0m\u001b[1;33m.\u001b[0m\u001b[0m_accessors\u001b[0m\u001b[1;33m\u001b[0m\u001b[1;33m\u001b[0m\u001b[0m\n\u001b[0;32m   6296\u001b[0m             \u001b[1;32mand\u001b[0m \u001b[0mself\u001b[0m\u001b[1;33m.\u001b[0m\u001b[0m_info_axis\u001b[0m\u001b[1;33m.\u001b[0m\u001b[0m_can_hold_identifiers_and_holds_name\u001b[0m\u001b[1;33m(\u001b[0m\u001b[0mname\u001b[0m\u001b[1;33m)\u001b[0m\u001b[1;33m\u001b[0m\u001b[1;33m\u001b[0m\u001b[0m\n\u001b[0;32m   6297\u001b[0m         \u001b[1;33m)\u001b[0m\u001b[1;33m:\u001b[0m\u001b[1;33m\u001b[0m\u001b[1;33m\u001b[0m\u001b[0m\n\u001b[0;32m   6298\u001b[0m             \u001b[1;32mreturn\u001b[0m \u001b[0mself\u001b[0m\u001b[1;33m[\u001b[0m\u001b[0mname\u001b[0m\u001b[1;33m]\u001b[0m\u001b[1;33m\u001b[0m\u001b[1;33m\u001b[0m\u001b[0m\n\u001b[1;32m-> 6299\u001b[1;33m         \u001b[1;32mreturn\u001b[0m \u001b[0mobject\u001b[0m\u001b[1;33m.\u001b[0m\u001b[0m__getattribute__\u001b[0m\u001b[1;33m(\u001b[0m\u001b[0mself\u001b[0m\u001b[1;33m,\u001b[0m \u001b[0mname\u001b[0m\u001b[1;33m)\u001b[0m\u001b[1;33m\u001b[0m\u001b[1;33m\u001b[0m\u001b[0m\n\u001b[0m",
      "\u001b[1;31mAttributeError\u001b[0m: 'DataFrame' object has no attribute 'rows'"
     ]
    }
   ],
   "source": [
    "df = pd.read_csv(\"employees.csv\")\n",
    "df.rows=[row.replace(\" \",\"_\") for row in df.rows]\n",
    "df"
   ]
  },
  {
   "cell_type": "code",
   "execution_count": null,
   "id": "2bc32b2e-6f3e-4693-bcec-514566659698",
   "metadata": {},
   "outputs": [],
   "source": []
  },
  {
   "cell_type": "code",
   "execution_count": 6,
   "id": "4ca48a7f-8841-48e1-bff1-1247e1c2be42",
   "metadata": {},
   "outputs": [
    {
     "data": {
      "text/html": [
       "<div>\n",
       "<style scoped>\n",
       "    .dataframe tbody tr th:only-of-type {\n",
       "        vertical-align: middle;\n",
       "    }\n",
       "\n",
       "    .dataframe tbody tr th {\n",
       "        vertical-align: top;\n",
       "    }\n",
       "\n",
       "    .dataframe thead th {\n",
       "        text-align: right;\n",
       "    }\n",
       "</style>\n",
       "<table border=\"1\" class=\"dataframe\">\n",
       "  <thead>\n",
       "    <tr style=\"text-align: right;\">\n",
       "      <th></th>\n",
       "      <th>FullName</th>\n",
       "      <th>Gender</th>\n",
       "      <th>Nationality</th>\n",
       "      <th>Location</th>\n",
       "      <th>M_status</th>\n",
       "      <th>Phone number</th>\n",
       "    </tr>\n",
       "  </thead>\n",
       "  <tbody>\n",
       "  </tbody>\n",
       "</table>\n",
       "</div>"
      ],
      "text/plain": [
       "Empty DataFrame\n",
       "Columns: [FullName, Gender, Nationality, Location, M_status, Phone number]\n",
       "Index: []"
      ]
     },
     "execution_count": 6,
     "metadata": {},
     "output_type": "execute_result"
    }
   ],
   "source": [
    "import pandas as pd\n",
    "import csv\n",
    "\n",
    "header_lst =['FullName','Gender','Nationality','Location','M_status','Phone number']\n",
    "with open(\"Header Sample.cvs\",\"w\")as file:\n",
    "    file_write=csv.DictWriter(file,delimiter=',',fieldnames=header_lst)\n",
    "    file_write.writeheader()\n",
    "    #display contents\n",
    "fileContent = pd.read_csv(\"Header Sample.cvs\")\n",
    "fileContent"
   ]
  },
  {
   "cell_type": "code",
   "execution_count": 11,
   "id": "6d09a161-5b89-4407-9482-35b41ed70948",
   "metadata": {},
   "outputs": [
    {
     "data": {
      "text/html": [
       "<div>\n",
       "<style scoped>\n",
       "    .dataframe tbody tr th:only-of-type {\n",
       "        vertical-align: middle;\n",
       "    }\n",
       "\n",
       "    .dataframe tbody tr th {\n",
       "        vertical-align: top;\n",
       "    }\n",
       "\n",
       "    .dataframe thead th {\n",
       "        text-align: right;\n",
       "    }\n",
       "</style>\n",
       "<table border=\"1\" class=\"dataframe\">\n",
       "  <thead>\n",
       "    <tr style=\"text-align: right;\">\n",
       "      <th></th>\n",
       "      <th>ira</th>\n",
       "      <th>Female</th>\n",
       "      <th>congol</th>\n",
       "      <th>dzaleka</th>\n",
       "      <th>single</th>\n",
       "      <th>0986576727</th>\n",
       "    </tr>\n",
       "  </thead>\n",
       "  <tbody>\n",
       "  </tbody>\n",
       "</table>\n",
       "</div>"
      ],
      "text/plain": [
       "Empty DataFrame\n",
       "Columns: [ira, Female, congol, dzaleka, single, 0986576727]\n",
       "Index: []"
      ]
     },
     "execution_count": 11,
     "metadata": {},
     "output_type": "execute_result"
    }
   ],
   "source": [
    "data={'FullName':'ira','Gender':'Female','Nationality':'congol','Location':'dzaleka','M_status':'single','Phone number':'0986576727'}\n",
    "with open(\"Header Sample.cvs\",\"w\")as file:\n",
    "    file_write=csv.DictWriter(file,delimiter=',',fieldnames=data)\n",
    "    file_write.writerow(data)\n",
    "display=pd.read_csv(\"Header Sample.cvs\")\n",
    "display    "
   ]
  },
  {
   "cell_type": "code",
   "execution_count": null,
   "id": "2aacb102-51ae-4c89-a282-969d942c7aa0",
   "metadata": {},
   "outputs": [],
   "source": []
  }
 ],
 "metadata": {
  "kernelspec": {
   "display_name": "Python 3 (ipykernel)",
   "language": "python",
   "name": "python3"
  },
  "language_info": {
   "codemirror_mode": {
    "name": "ipython",
    "version": 3
   },
   "file_extension": ".py",
   "mimetype": "text/x-python",
   "name": "python",
   "nbconvert_exporter": "python",
   "pygments_lexer": "ipython3",
   "version": "3.13.2"
  }
 },
 "nbformat": 4,
 "nbformat_minor": 5
}
