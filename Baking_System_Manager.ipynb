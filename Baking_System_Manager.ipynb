{
 "cells": [
  {
   "cell_type": "code",
   "execution_count": 3,
   "id": "0d63f511-0dfc-497b-b183-0004cc9e8f79",
   "metadata": {},
   "outputs": [],
   "source": [
    "import pandas as pd\n",
    "import csv"
   ]
  },
  {
   "cell_type": "code",
   "execution_count": null,
   "id": "a138404d-080d-40c3-88cb-4add370096e7",
   "metadata": {},
   "outputs": [],
   "source": [
    "while True:\n",
    "    Id=int(input(\"Enter your Id number: \"))\n",
    "    username=input(\"Enter your username: \")\n",
    "    gender=input(\"Enter your gender: \" )\n",
    "    email=input(\"Enter your email: \")\n",
    "    nationality=input(\"Enter your nationanlity: \")\n",
    "    sorouse_of_income=input(\"Enter your sorouse of income: \")\n",
    "    phone_num=(input(\"Enter your phone num: \"))\n",
    "    if len(phone_num)==10 and phone_num.isdigit():\n",
    "        print(phone_num)\n",
    "    else:\n",
    "        print(\"incorret formating please put at list 9 digits!\")\n",
    "        break\n",
    "    import random\n",
    "    account_num=random.randint(100000000,200000000)\n",
    "    print(f\"{username} your account has been created successfully and this is your account num {phone_num}\")\n",
    "    \n",
    "    def Creating_an_account():\n",
    "        header_list=[\"ID\",\"USERNAME\",\"GENDER\",\"EMAIL\",\"NATIONALITY\",\"SOROUSE OF INCOME\",\"PHONE NUM\",\"ACCOUNT NUM\"]\n",
    "        with open(\"banking_system_maneger.csv\",\"w\")as file:\n",
    "            file_write=csv.DictWriter(file,delimiter=',',fieldnames=header_list)\n",
    "            file_write.writeheader()\n",
    "            print(file_write)\n",
    "        data={\"ID\":Id,\"USERNAME\":username,\"GENDER\":gender,\"EMAIL\":email,\"NATIONALITY\":nationality,\"SOROUSE OF INCOME\":sorouse_of_income,\"PHONE NUM\":phone_num,\"ACCOUNT NUM\":account_num}\n",
    "        with open(\"banking_system_maneger.csv.\",\"a\")as file:\n",
    "            file_write=csv.DictWriter(file,delimiter=',',fieldnames=data)\n",
    "            file_write.writerow(data)\n",
    "            print(file_write)\n",
    "    break"
   ]
  },
  {
   "cell_type": "code",
   "execution_count": 5,
   "id": "25642d99-73b4-4eb6-bc8e-4ac270fd7a8d",
   "metadata": {},
   "outputs": [],
   "source": [
    "#the main menu\n",
    "def the_main_menu():\n",
    "    print(\"===THE MAIN MENU===\")\n",
    "    print(\"1.create an account\")\n",
    "    print(\"2.Deposing\")\n",
    "    print(\"3.Witdowing\")\n",
    "    print(\"4.updatig\")\n",
    "    print(\"5.Exiting the programing\")\n",
    "    choice=int(input(\"Enter number 1 to 5\"))\n",
    "    if choice==1:\n",
    "        Creating_an_account()\n",
    "    elif choice==2:\n",
    "        Depositing()\n",
    "    elif chooise==3:\n",
    "        Withdowing()\n",
    "    elif choise==4:\n",
    "        updating()\n",
    "    elif choise==5:\n",
    "        print(\"exting the program!\")\n",
    "    else:\n",
    "        print(\"Type the number!\")"
   ]
  },
  {
   "cell_type": "code",
   "execution_count": null,
   "id": "ea6d368a-d9aa-48f4-ad80-0bbb6bb4f4f7",
   "metadata": {},
   "outputs": [],
   "source": []
  }
 ],
 "metadata": {
  "kernelspec": {
   "display_name": "Python 3 (ipykernel)",
   "language": "python",
   "name": "python3"
  },
  "language_info": {
   "codemirror_mode": {
    "name": "ipython",
    "version": 3
   },
   "file_extension": ".py",
   "mimetype": "text/x-python",
   "name": "python",
   "nbconvert_exporter": "python",
   "pygments_lexer": "ipython3",
   "version": "3.13.2"
  }
 },
 "nbformat": 4,
 "nbformat_minor": 5
}
