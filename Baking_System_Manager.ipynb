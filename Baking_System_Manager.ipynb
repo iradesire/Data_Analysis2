{
 "cells": [
  {
   "cell_type": "code",
   "execution_count": 37,
   "id": "0d63f511-0dfc-497b-b183-0004cc9e8f79",
   "metadata": {},
   "outputs": [
    {
     "name": "stdout",
     "output_type": "stream",
     "text": [
      "<csv.DictWriter object at 0x0000020E3C1B9810>\n"
     ]
    }
   ],
   "source": [
    "import pandas as pd\n",
    "import csv\n",
    "header_list=[\"ID\",\"USERNAME\",\"GENDER\",\"EMAIL\",\"AMOUNT\",\"NATIONALITY\",\"SOROUSE OF INCOME\",\"PHONE NUM\",\"ACCOUNT NUM\"]\n",
    "with open(\"banking_system_maneger.csv\",\"w\")as file:\n",
    "    file_write=csv.DictWriter(file,delimiter=',',fieldnames=header_list)\n",
    "    file_write.writeheader()\n",
    "    print(file_write)"
   ]
  },
  {
   "cell_type": "code",
   "execution_count": 38,
   "id": "a138404d-080d-40c3-88cb-4add370096e7",
   "metadata": {
    "editable": true,
    "slideshow": {
     "slide_type": ""
    },
    "tags": []
   },
   "outputs": [],
   "source": [
    "# #Id=\"\"\n",
    "# #sername=\"\"\n",
    "# #gender=\"\"\n",
    "# #email=\"\"\n",
    "# #amount=\"\"\n",
    "# nationality=\"\"\n",
    "# sorouse_of_income=\"\"\n",
    "# phone_num=\"\"\n",
    "#if len(phone_num)==10 and phone_num.isdigit():\n",
    "    #print(phone_num)\n",
    "#else:\n",
    "    #print(\"incorret formating please put at list 9 digits!\")\n",
    "import random\n",
    "account_num=random.randint(100000000,200000000)\n",
    "#print(f\"{username} your account has been created successfully and this is your account num {acount_num}\")\n",
    "#data={\"ID\":Id,\"USERNAME\":username,\"GENDER\":gender,\"EMAIL\":email,\"AMOUNT\":amount,\"NATIONALITY\":nationality,\"SOROUSE OF INCOME\":sorouse_of_income,\"PHONE NUM\":phone_num,\"ACCOUNT NUM\":account_num}        \n",
    "import csv        \n",
    "def Creating_an_account():\n",
    "    while True:\n",
    "        print(\"===CREATING AN ACCOUNT===\")\n",
    "        Id=int(input(\"Enter your Id number: \"))\n",
    "        username=input(\"Enter your username: \")\n",
    "        gender=input(\"Enter your gender: \" )\n",
    "        email=input(\"Enter your email: \")\n",
    "        amount=float(input(\"Enter the amount you are starting with: \"))\n",
    "        nationality=input(\"Enter your nationanlity: \")\n",
    "        sorouse_of_income=input(\"Enter your sorouse of income: \")\n",
    "        phone_num=(input(\"Enter your phone num: \"))\n",
    "        if len(phone_num)==10 and phone_num.isdigit():\n",
    "            print(phone_num)\n",
    "        else:\n",
    "            print(\"incorret formating please put at list 9 digits!\")\n",
    "            break\n",
    "        import random\n",
    "        account_num=random.randint(100000000,200000000)\n",
    "        print(f\"{username} your account has been created successfully and this is your account num {account_num}\")\n",
    "        \n",
    "        \n",
    "\n",
    "        data={\"ID\":Id,\"USERNAME\":username,\"GENDER\":gender,\"EMAIL\":email,\"AMOUNT\":amount,\"NATIONALITY\":nationality,\"SOROUSE OF INCOME\":sorouse_of_income,\"PHONE NUM\":phone_num,\"ACCOUNT NUM\":account_num}\n",
    "        with open(\"banking_system_maneger.csv.\",\"a\")as file:\n",
    "            file_write=csv.DictWriter(file,delimiter=',',fieldnames=data)\n",
    "            file_write.writerow(data)\n",
    "            print(file_write)   \n",
    "        break\n",
    "            \n",
    "#Creating_an_account()"
   ]
  },
  {
   "cell_type": "code",
   "execution_count": 39,
   "id": "25642d99-73b4-4eb6-bc8e-4ac270fd7a8d",
   "metadata": {},
   "outputs": [],
   "source": [
    "#the main menu\n",
    "def the_main_menu():\n",
    "    while True:\n",
    "        print(\"===THE MAIN MENU===\")\n",
    "        print(\"1.Create an account\")\n",
    "        print(\"2.Deposing\")\n",
    "        print(\"3.Witdowing\")\n",
    "        print(\"4.updatig\")\n",
    "        print(\"5.view\")\n",
    "        print(\"6.Exiting the programing\")\n",
    "        choice=int(input(\"Enter number 1 to 6: \"))\n",
    "        if choice==1:\n",
    "            Creating_an_account()\n",
    "        elif choice==2:\n",
    "            Depositing()\n",
    "        elif choice==3:\n",
    "            Withdowing()\n",
    "        elif choice==4:\n",
    "            updating()\n",
    "        elif choice==5:\n",
    "            view()\n",
    "        elif choice==6:\n",
    "            print(\"exting the program!\")\n",
    "            break\n",
    "        else:\n",
    "            print(\"Type the number!\")\n"
   ]
  },
  {
   "cell_type": "code",
   "execution_count": 40,
   "id": "ea6d368a-d9aa-48f4-ad80-0bbb6bb4f4f7",
   "metadata": {},
   "outputs": [],
   "source": [
    "def Depositing():\n",
    "    df=pd.read_csv(\"banking_system_maneger.csv\")\n",
    "    user_dep=float(input(\"Enter the amount you want to deposit: \"))\n",
    "    name=(input(\"Enter your account num: \"))\n",
    "    if user_dep<1:\n",
    "        print(\"sorry this is enough money\")\n",
    "    data.loc[data[\"NAME\"]==name,\"Amount\"] +=user_dep\n",
    "    print(\"you have successfully deposited your money\")\n",
    "    data.to_csv('banking_system_maneger.csv',index=False)\n",
    "    print (\"data save successfully\")\n",
    "\n",
    "    "
   ]
  },
  {
   "cell_type": "code",
   "execution_count": 41,
   "id": "359d8e06-2481-4e61-a8bb-e0af896d74f4",
   "metadata": {},
   "outputs": [],
   "source": [
    "def Withdowing():\n",
    "    df=pd.read_csv(\"banking_system_maneger.csv\")\n",
    "    user_withdow=float(input(\"Enter the amount you want to deposit: \"))\n",
    "    name=(input(\"Enter your account num: \"))\n",
    "    if user_withdow<1:\n",
    "        print(\"sorry this is enough money\")\n",
    "    data.loc[data[\"NAME\"]==name,\"Amount\"]-=user_withadow\n",
    "    print(\"you have successfully withdrowed your money\")\n",
    "    data.to_csv('banking_system_maneger.csv',index=False)\n",
    "    print (\"data save successfully\")"
   ]
  },
  {
   "cell_type": "code",
   "execution_count": 42,
   "id": "8daa18a0-61f6-4dfc-acac-37a31f3abc7a",
   "metadata": {},
   "outputs": [],
   "source": [
    "def update():\n",
    "    df=pd.read_csv(\"banking_system_maneger.csv\")\n",
    "    new_phone_num=int(input(\"you may now updata your num: \"))\n",
    "    name=(input(\"Enter your name: \"))\n",
    "    data.loc[data[\"NAME\"]==name,\"PHONE_NUM\"]=new_phone_num\n",
    "    print(\"you have successfully updated your money\")\n",
    "    data.to_csv('banking_system_maneger.csv',index=False)\n",
    "    print (\"data save successfully\")\n",
    "    "
   ]
  },
  {
   "cell_type": "code",
   "execution_count": 43,
   "id": "b5a4e0ad-0870-4496-819c-1e86ca16ec42",
   "metadata": {},
   "outputs": [],
   "source": [
    "def view():\n",
    "    with open(\"banking_system_maneger.csv\",\"r\")as flie:\n",
    "        df=pd.read_csv(flie)\n",
    "        print(df)"
   ]
  },
  {
   "cell_type": "code",
   "execution_count": null,
   "id": "4efc1bd9-c717-4cc7-a174-88141b6485d0",
   "metadata": {},
   "outputs": [
    {
     "name": "stdout",
     "output_type": "stream",
     "text": [
      "===THE MAIN MENU===\n",
      "1.Create an account\n",
      "2.Deposing\n",
      "3.Witdowing\n",
      "4.updatig\n",
      "5.view\n",
      "6.Exiting the programing\n"
     ]
    },
    {
     "name": "stdin",
     "output_type": "stream",
     "text": [
      "Enter number 1 to 6:  1\n"
     ]
    },
    {
     "name": "stdout",
     "output_type": "stream",
     "text": [
      "===CREATING AN ACCOUNT===\n"
     ]
    },
    {
     "name": "stdin",
     "output_type": "stream",
     "text": [
      "Enter your Id number:  022\n",
      "Enter your username:  ira\n",
      "Enter your gender:  female\n",
      "Enter your email:  isiradesire@gmail.com\n",
      "Enter the amount you are starting with:  8000\n",
      "Enter your nationanlity:  malawian\n",
      "Enter your sorouse of income:  business\n",
      "Enter your phone num:  0987654345\n"
     ]
    },
    {
     "name": "stdout",
     "output_type": "stream",
     "text": [
      "0987654345\n",
      "ira your account has been created successfully and this is your account num 145984325\n",
      "<csv.DictWriter object at 0x0000020E3C17A780>\n",
      "===THE MAIN MENU===\n",
      "1.Create an account\n",
      "2.Deposing\n",
      "3.Witdowing\n",
      "4.updatig\n",
      "5.view\n",
      "6.Exiting the programing\n"
     ]
    },
    {
     "name": "stdin",
     "output_type": "stream",
     "text": [
      "Enter number 1 to 6:  2\n"
     ]
    }
   ],
   "source": [
    "the_main_menu()"
   ]
  },
  {
   "cell_type": "code",
   "execution_count": null,
   "id": "cd0b8b3a-5efe-489a-bd56-4af1299b226c",
   "metadata": {},
   "outputs": [],
   "source": []
  }
 ],
 "metadata": {
  "kernelspec": {
   "display_name": "Python 3 (ipykernel)",
   "language": "python",
   "name": "python3"
  },
  "language_info": {
   "codemirror_mode": {
    "name": "ipython",
    "version": 3
   },
   "file_extension": ".py",
   "mimetype": "text/x-python",
   "name": "python",
   "nbconvert_exporter": "python",
   "pygments_lexer": "ipython3",
   "version": "3.13.1"
  }
 },
 "nbformat": 4,
 "nbformat_minor": 5
}
